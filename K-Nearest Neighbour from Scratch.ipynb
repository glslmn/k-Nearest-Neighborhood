{
 "cells": [
  {
   "cell_type": "markdown",
   "metadata": {},
   "source": [
    "# K-NN from scratch "
   ]
  },
  {
   "cell_type": "markdown",
   "metadata": {},
   "source": [
    "### I created a function called k_NN which accepts feature set, corresponding labels and explicitly decided k and return predicted classes for test instances and test accuracy"
   ]
  },
  {
   "cell_type": "code",
   "execution_count": 122,
   "metadata": {},
   "outputs": [
    {
     "data": {
      "text/plain": [
       "88.63636363636364"
      ]
     },
     "execution_count": 122,
     "metadata": {},
     "output_type": "execute_result"
    }
   ],
   "source": [
    "import numpy as np\n",
    "import matplotlib.pyplot as plt\n",
    "from sklearn.model_selection import train_test_split\n",
    "from collections import Counter\n",
    "\n",
    "XION=np.genfromtxt(\"ionosphere.txt\",delimiter=\",\",usecols=np.arange(34))\n",
    "yION=np.genfromtxt(\"ionosphere.txt\",delimiter=\",\",usecols=34)\n",
    "\n",
    "def k_NN(X,y,k):\n",
    "    \"\"\"function calculates the predicted classes \n",
    "        of test set and test accuracy given k\"\"\"\n",
    "    \n",
    "    def distance(x,y):\n",
    "        \"\"\"function calculating Euclidean \n",
    "            distance between two points\"\"\"\n",
    "        return (((x-y)**2).sum())**0.5\n",
    "    \n",
    "    #Split the dataset\n",
    "    X_tr,X_t,y_tr,y_t=train_test_split(X,y,random_state=0)\n",
    "    \n",
    "    #Creating a 2 dimensional array showing the distance of each test instance to the each training instance\n",
    "    dist_matr=np.zeros((len(X_t),len(X_tr)))\n",
    "    for i in range(len(X_t)):\n",
    "        for j in range(len(X_tr)):\n",
    "            dist_matr[i,j]=distance(X_t[i],X_tr[j])\n",
    "    \n",
    "    #Predicting the labels of test observations based on k-nearest training observations\n",
    "    nearest_neighbours=np.argsort(dist_matr)\n",
    "    predicted=np.array([])\n",
    "    for i in range(len(nearest_neighbours)):\n",
    "        nearest_k_classes=[y_tr[ind] for ind in nearest_neighbours[i][:k]]\n",
    "        if sum(nearest_k_classes)>=1 or sum(nearest_k_classes)==0:\n",
    "            predicted=np.append(predicted,1)\n",
    "        elif sum(nearest_k_classes)<=-1:\n",
    "            predicted=np.append(predicted,-1)\n",
    "    \n",
    "    T=Counter(predicted==y_t)[1]\n",
    "    F=Counter(predicted==y_t)[0]\n",
    "    accuracy=(T*100)/(T+F)\n",
    "    \n",
    "    return predicted,accuracy\n",
    "\n",
    "predicted_classes,accuracy=k_NN(XION,yION,3)"
   ]
  },
  {
   "cell_type": "markdown",
   "metadata": {},
   "source": [
    "## Observing test accuracy for various K values"
   ]
  },
  {
   "cell_type": "code",
   "execution_count": 134,
   "metadata": {},
   "outputs": [
    {
     "name": "stderr",
     "output_type": "stream",
     "text": [
      "No handles with labels found to put in legend.\n"
     ]
    },
    {
     "data": {
      "image/png": "[encoded data removed]",
      "text/plain": [
       "<Figure size 432x288 with 1 Axes>"
      ]
     },
     "metadata": {
      "needs_background": "light"
     },
     "output_type": "display_data"
    }
   ],
   "source": [
    "acc=[]\n",
    "for k in range(51):\n",
    "    _,accuracy=k_NN(XION,yION,k)\n",
    "    acc.append(accuracy)\n",
    "\n",
    "fig = plt.figure()\n",
    "ax = fig.add_subplot(111)\n",
    "\n",
    "ax.plot(list(range(51)),acc,c='pink',marker='*')\n",
    "plt.legend(loc='lower right');\n",
    "ax.set_title(\"Test set accuracy vs k-NN\")\n",
    "ax.set_xlabel('k values')\n",
    "ax.set_ylabel('Accuracy')\n",
    "plt.show()"
   ]
  },
  {
   "cell_type": "markdown",
   "metadata": {},
   "source": [
    "#### As can be seen from the above graph increasing k eventually decreases the accuracy on test set. "
   ]
  },
  {
   "cell_type": "code",
   "execution_count": null,
   "metadata": {},
   "outputs": [],
   "source": []
  }
 ],
 "metadata": {
  "kernelspec": {
   "display_name": "Python 3",
   "language": "python",
   "name": "python3"
  },
  "language_info": {
   "codemirror_mode": {
    "name": "ipython",
    "version": 3
   },
   "file_extension": ".py",
   "mimetype": "text/x-python",
   "name": "python",
   "nbconvert_exporter": "python",
   "pygments_lexer": "ipython3",
   "version": "3.7.1"
  }
 },
 "nbformat": 4,
 "nbformat_minor": 2
}
